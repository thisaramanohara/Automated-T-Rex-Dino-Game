{
 "cells": [
  {
   "cell_type": "code",
   "execution_count": 1,
   "metadata": {},
   "outputs": [],
   "source": [
    "#importing the necessary modules\n",
    "from PIL import ImageGrab\n",
    "import numpy as np\n",
    "from matplotlib import pyplot as plt\n",
    "import cv2\n",
    "import win32com.client as comctl"
   ]
  },
  {
   "cell_type": "code",
   "execution_count": null,
   "metadata": {},
   "outputs": [],
   "source": [
    "wsh=comctl.Dispatch('WScript.Shell')\n",
    "wsh.AppActivate('chromedino.com')    #allow to chromedino.com"
   ]
  },
  {
   "cell_type": "code",
   "execution_count": null,
   "metadata": {},
   "outputs": [],
   "source": [
    "#defining the size of the tree (a box infront of the dinosaur)\n",
    "#NOTE : Positions may be different in your screen. So be careful to change the positions if needed\n",
    "tree_x,tree_y,tree_w,tree_h=(80,65,60,50)"
   ]
  },
  {
   "cell_type": "code",
   "execution_count": null,
   "metadata": {},
   "outputs": [],
   "source": [
    "while(True):\n",
    "    #getting the part of the screen where the game is happening\n",
    "    #NOTE : Positions may be different in your screen. So be careful to change the positions if needed\n",
    "    screen=np.array(ImageGrab.grab(bbox=(220,200,1300,350)))\n",
    "    \n",
    "    #converting color the grabbed image\n",
    "    screen=cv2.cvtColor(screen,cv2.COLOR_BGR2RGB)\n",
    "    \n",
    "    #getting the box from the image which is infront of the dinosaur \n",
    "    tree_window=screen[tree_y:tree_y+tree_h,tree_x:tree_x+tree_w]\n",
    "    \n",
    "    #getting the thresholded image of the box\n",
    "    ret,tree_window_thresh=cv2.threshold(tree_window,127,255,cv2.THRESH_BINARY)\n",
    "    \n",
    "    #counting the number of the black pixels\n",
    "    num_of_black_pixels=np.count_nonzero(tree_window_thresh==0)\n",
    "    \n",
    "    #counting the number of all pixels\n",
    "    num_of_all_pixels=np.size(tree_window_thresh)\n",
    "    \n",
    "    #getting a ratio between black pixels and all pixels\n",
    "    tree_ratio=num_of_black_pixels/num_of_all_pixels\n",
    "    \n",
    "    #if there is a tree or a bird caught into the box\n",
    "    if(tree_ratio>0.05):\n",
    "        #to draw a red rectangle\n",
    "        cv2.rectangle(screen,(tree_x,tree_y,tree_w,tree_h),(0,0,255),-1)\n",
    "        \n",
    "        #to display a text\n",
    "        cv2.putText(screen,'UP',(tree_x,tree_y-10),cv2.FONT_HERSHEY_SIMPLEX,1,(0,0,255),2)\n",
    "        \n",
    "        #press UP button\n",
    "        wsh.SendKeys('{UP}')\n",
    "    \n",
    "    #display the image\n",
    "    cv2.imshow('printscreen',screen)\n",
    "    \n",
    "    #if you pressed ESC button , programe will quit\n",
    "    if(cv2.waitKey(1)==27):\n",
    "        cv2.destroyAllWindows()\n",
    "        break"
   ]
  }
 ],
 "metadata": {
  "kernelspec": {
   "display_name": "Python 3",
   "language": "python",
   "name": "python3"
  },
  "language_info": {
   "codemirror_mode": {
    "name": "ipython",
    "version": 3
   },
   "file_extension": ".py",
   "mimetype": "text/x-python",
   "name": "python",
   "nbconvert_exporter": "python",
   "pygments_lexer": "ipython3",
   "version": "3.7.9"
  }
 },
 "nbformat": 4,
 "nbformat_minor": 4
}
